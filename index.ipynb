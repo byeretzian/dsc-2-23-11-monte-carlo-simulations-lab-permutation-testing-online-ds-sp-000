{
 "cells": [
  {
   "cell_type": "markdown",
   "metadata": {},
   "source": [
    "# Monte Carlo Simulations - Lab\n",
    "\n",
    "## Introduction\n",
    "\n",
    "Often when attempting to conduct a permutation test, the total number of possible combinations is exceedingly large. At times, this number can be so vast that even with modern computers, it is infeasible or exceedingly resource heavy in order to compute all possible variations. As a result, these large sets can be approximated using monte carlo simulations. In this lab, you will combine ideas from the previous lessons and labs in order to conduct a monte carlo simulation of a permutation test that would otherwise be infeasible to compute.\n",
    "\n",
    "\n",
    "## Objectives \n",
    "\n",
    "You will be able to:\n",
    "* Understand permutation testing\n",
    "* Understand and conduct Monte Carlo simulations"
   ]
  },
  {
   "cell_type": "markdown",
   "metadata": {},
   "source": [
    "## Exploding Sample Sizes\n",
    "\n",
    "As we discussed in the previous lecture, permutation test sizes can quickly explode as our original sample sizes grow. To demonstrate this, Create a graph to show how the number of combinations increases as we increase just one of the sample sizes. Assume that our first sample is of 25 individuals. From there, plot a graph of how the permutation test sample size increases drastically as our second sample increases from 10 to 200 individuals. (Assume that every new person has a unique blood pressure; a stretch of an assumption, but greatly simplifies our calculations for now.)"
   ]
  },
  {
   "cell_type": "code",
   "execution_count": 4,
   "metadata": {},
   "outputs": [],
   "source": [
    "import itertools\n",
    "from scipy.special import comb\n",
    "import matplotlib.pyplot as plt"
   ]
  },
  {
   "cell_type": "code",
   "execution_count": 6,
   "metadata": {},
   "outputs": [
    {
     "name": "stdout",
     "output_type": "stream",
     "text": [
      "one sample of 25, one of 10. number of combinations:  183579396.0\n"
     ]
    }
   ],
   "source": [
    "# Your code here\n",
    "sample_a = list(range(25))\n",
    "sample_b = list(range(25,35))\n",
    "sample_size = len(sample_a)\n",
    "n_items = len(sample_a) + len(sample_b)\n",
    "print(\"one sample of 25, one of 10. number of combinations: \",  str(comb(n_items, sample_size)))"
   ]
  },
  {
   "cell_type": "code",
   "execution_count": 14,
   "metadata": {},
   "outputs": [],
   "source": [
    "n_combs_list = []\n",
    "n_combs_list.append(183579396.0)\n",
    "for i in range(1,191):\n",
    "    sample_b = list(range(25,35+i))\n",
    "    sample_size =len(sample_a)\n",
    "    n_items = len(sample_a) + len(sample_b)\n",
    "    n_combs = comb(n_items, sample_size)\n",
    "    n_combs_list.append(n_combs)"
   ]
  },
  {
   "cell_type": "code",
   "execution_count": 17,
   "metadata": {},
   "outputs": [
    {
     "data": {
      "text/plain": [
       "[<matplotlib.lines.Line2D at 0x7ff1331763c8>]"
      ]
     },
     "execution_count": 17,
     "metadata": {},
     "output_type": "execute_result"
    },
    {
     "data": {
      "image/png": "[encoded data removed]",
      "text/plain": [
       "<Figure size 432x288 with 1 Axes>"
      ]
     },
     "metadata": {
      "needs_background": "light"
     },
     "output_type": "display_data"
    }
   ],
   "source": [
    "x = list(range(10,201))\n",
    "fig = plt.figure()\n",
    "plt.plot(x, n_combs_list)"
   ]
  },
  {
   "cell_type": "markdown",
   "metadata": {},
   "source": [
    "## Creating the Monte Carlo Simulation\n",
    "\n",
    "Let's expand upon our blood pressure example from the preceding lab. Even with our previous sample sizes of a sample of 14 and a sample of 12, we had a total of over 9 million combinations. As you can see from the graph above, this quantity continues to rapidly increase. As a result, it is often impracticle or impossible to calculate all possible combinations. Instead, use a Monte Carlo Simulation to sample from the combination space in order to emulate a permutation test. While a precise simulation of a permutation test would record which combinations we have already simulated, doing so greatly reduces the speed of the process. Below is the complete samples of two populations blood pressure.  \n",
    "  \n",
    "Write a Monte Carlo simulation to sample from the permutation space. Be sure to not allow replacement so that certain possible combinations are not repeated. Calculate the p-value after `10, 100, 500, 1000, 10**4, 10**5, 10**6, 2*10**6 and 5*10**6` iterations. Graph these to show how the p-value stabilizes and converges after a large number of iterations.\n",
    " "
   ]
  },
  {
   "cell_type": "code",
   "execution_count": 18,
   "metadata": {},
   "outputs": [],
   "source": [
    "a = [109.6927759 , 120.27296943, 103.54012038, 114.16555857,\n",
    "       122.93336175, 110.9271756 , 114.77443758, 116.34159338,\n",
    "       130.72888419, 116.04552895, 114.8313492 , 117.52704641,\n",
    "       109.06597142, 117.0317262 , 114.34876391, 111.32151926,\n",
    "       108.90594481, 110.95040527,  99.15890727, 117.93581615,\n",
    "       106.35644209, 112.88102458, 103.87574946, 111.88394265,\n",
    "       115.42450119, 124.02872282, 116.19121625, 115.59471365,\n",
    "       112.66413025, 118.30562665, 132.31196515, 117.99000948]\n",
    "b = [123.98967482, 141.11969004, 117.00293412, 121.6419775 ,\n",
    "       123.2703033 , 123.76944385, 105.95249634, 114.87114479,\n",
    "       110.50162354, 121.31836918, 124.9483451 , 126.04639783,\n",
    "       119.71433463, 117.49416398, 129.47657837, 115.57798929,\n",
    "       117.36035264, 130.92919224, 104.43218778, 119.97610071,\n",
    "       115.67085089, 113.77487389, 114.02470379, 116.64660978,\n",
    "       117.3023355 , 116.30944159, 123.66560428, 117.87222118,\n",
    "       128.8445079 , 111.7976685 , 117.25730744, 111.62121119,\n",
    "       110.12277446, 112.7150916 , 129.21006268, 125.97287311,\n",
    "       130.6878082 , 140.60768727, 121.95433026, 123.11996767,\n",
    "       129.93260914, 121.01049611, 129.23680238]"
   ]
  },
  {
   "cell_type": "code",
   "execution_count": 19,
   "metadata": {},
   "outputs": [],
   "source": [
    "def permT(a,b):\n",
    "    union = a + b\n",
    "    new_as = list(itertools.combinations(union, len(a)))\n",
    "    new_bs = []\n",
    "    for new_a in new_as:\n",
    "        u_copy = union.copy()\n",
    "        for a in new_a:\n",
    "            u_copy.remove(a)\n",
    "        new_bs.append(u_copy)\n",
    "    return list(zip(new_as, new_bs))"
   ]
  },
  {
   "cell_type": "code",
   "execution_count": null,
   "metadata": {},
   "outputs": [],
   "source": [
    "#Your code here\n",
    "import numpy as np\n",
    "mean_diff = np.mean(a) - np.mean(b)\n",
    "iter_list = [10, 100, 500, 1000, 10**4, 10**5, 10**6, 2*10**6, 5*10**6]\n",
    "p_vals = []\n",
    "for iter_num in iter_list:\n",
    "    greater = 0\n",
    "    for i in range(iter_num):\n",
    "        combos = permT(a, b)\n",
    "        for ai, bi in combos:\n",
    "            diff_mu_ai_bi = np.mean(ai) - np.mean(bi)\n",
    "            if diff_mu_ai_bi >= mean_diff:\n",
    "                greater +=1\n",
    "    p_val = num / len(combos)\n",
    "    p_val.append([iter_num, p_vals])"
   ]
  },
  {
   "cell_type": "code",
   "execution_count": null,
   "metadata": {},
   "outputs": [],
   "source": []
  },
  {
   "cell_type": "markdown",
   "metadata": {},
   "source": [
    "## Summary\n",
    "\n",
    "In this lab you simulated a permutation test and observed both how combination sizes explode rapidly and how p-values will converge over time in a simulation."
   ]
  }
 ],
 "metadata": {
  "kernelspec": {
   "display_name": "Python 3",
   "language": "python",
   "name": "python3"
  },
  "language_info": {
   "codemirror_mode": {
    "name": "ipython",
    "version": 3
   },
   "file_extension": ".py",
   "mimetype": "text/x-python",
   "name": "python",
   "nbconvert_exporter": "python",
   "pygments_lexer": "ipython3",
   "version": "3.6.6"
  }
 },
 "nbformat": 4,
 "nbformat_minor": 2
}
